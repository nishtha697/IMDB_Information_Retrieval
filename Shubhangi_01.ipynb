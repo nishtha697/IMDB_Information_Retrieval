{
 "cells": [
  {
   "cell_type": "code",
   "execution_count": null,
   "id": "b9d8c017",
   "metadata": {},
   "outputs": [],
   "source": [
    "import pickle\n",
    "import glob\n",
    "import json\n",
    "import numpy as np\n",
    "import pandas as pd\n",
    "from tqdm import tqdm\n",
    "from datetime import date\n",
    "from collections import defaultdict,Counter"
   ]
  },
  {
   "cell_type": "markdown",
   "id": "c22fcb08",
   "metadata": {},
   "source": [
    "# Helper Functions"
   ]
  },
  {
   "cell_type": "code",
   "execution_count": null,
   "id": "bb8ebec0",
   "metadata": {},
   "outputs": [],
   "source": [
    "categoryWeights = {\n",
    "    'actor': 10,\n",
    "    'actress': 10,\n",
    "    'director': 9,\n",
    "    'producer': 8\n",
    "}"
   ]
  },
  {
   "cell_type": "code",
   "execution_count": null,
   "id": "61cb788d",
   "metadata": {},
   "outputs": [],
   "source": [
    "cosineWeight = 0.6\n",
    "ageWeight = 0.3\n",
    "ratingWeight = 0.1"
   ]
  },
  {
   "cell_type": "code",
   "execution_count": null,
   "id": "f97671d3",
   "metadata": {},
   "outputs": [],
   "source": [
    "def getCurrentYear():\n",
    "    return date.today().year"
   ]
  },
  {
   "cell_type": "code",
   "execution_count": null,
   "id": "8b4818fd",
   "metadata": {},
   "outputs": [],
   "source": [
    "def cosim(v1, v2):\n",
    "    u = np.float64(v1)\n",
    "    v = np.float64(v2)\n",
    "    return np.dot(u,v)/(np.linalg.norm(u)*np.linalg.norm(v))"
   ]
  },
  {
   "cell_type": "code",
   "execution_count": null,
   "id": "94f85595",
   "metadata": {},
   "outputs": [],
   "source": [
    "def getAgeFactor(release_year):\n",
    "    diff = getCurrentYear() - int(release_year)\n",
    "    return 1/math.exp(diff/100)"
   ]
  },
  {
   "cell_type": "code",
   "execution_count": null,
   "id": "192f589a",
   "metadata": {},
   "outputs": [],
   "source": [
    "def getRatingFactor(rating):\n",
    "    return rating/10"
   ]
  },
  {
   "cell_type": "code",
   "execution_count": null,
   "id": "a67f8056",
   "metadata": {},
   "outputs": [],
   "source": [
    "def getFinalScore(cosine, age, rating):\n",
    "    return (cosineWeight * cosine) + (ageWeight * age) + (ratingWeight * rating)"
   ]
  },
  {
   "cell_type": "markdown",
   "id": "1df324c8",
   "metadata": {},
   "source": [
    "# Load Data & Preprocess"
   ]
  },
  {
   "cell_type": "code",
   "execution_count": null,
   "id": "dc4d6e5b",
   "metadata": {},
   "outputs": [],
   "source": [
    "tsv_files = glob.glob('./dataset/*.tsv')\n",
    "for file in tsv_files:\n",
    "    print('Processing',file)\n",
    "    destination_path = open('./savFiles/'+file[10:-4]+'.sav', 'wb')\n",
    "    pickle.dump(pd.read_table(file,sep='\\t',low_memory=False, na_values=['\\\\N','nan']), destination_path)\n",
    "    print('Finished',file)"
   ]
  },
  {
   "cell_type": "code",
   "execution_count": null,
   "id": "ce0e951f",
   "metadata": {},
   "outputs": [],
   "source": [
    "basics = pickle.load(open('./savFiles/title.basics.sav','rb'))\n",
    "akas = pickle.load(open('./savFiles/title.akas.sav','rb'))\n",
    "ratings = pickle.load(open('./savFiles/title.ratings.sav','rb'))\n",
    "principal = pickle.load(open('./savFiles/title.principal.sav','rb'))\n",
    "people = pickle.load(open('./savFiles/name.basics.sav','rb'))"
   ]
  },
  {
   "cell_type": "code",
   "execution_count": null,
   "id": "bd3f5126",
   "metadata": {},
   "outputs": [],
   "source": [
    "df_basics = basics.drop(['originalTitle','isAdult','runtimeMinutes','genres','endYear'],axis=1)\n",
    "\n",
    "df_basics = df_basics[df_basics['titleType']=='movie']\n",
    "df_basics['startYear'] = df_basics['startYear'].fillna(str(getCurrentYear()))\n",
    "\n",
    "df_basics = df_basics.drop(['titleType'],axis=1)"
   ]
  },
  {
   "cell_type": "code",
   "execution_count": null,
   "id": "49caa451",
   "metadata": {},
   "outputs": [],
   "source": [
    "df_akas = akas.drop(['ordering','language','types','attributes','isOriginalTitle','title'],axis=1)\n",
    "df_akas = df_akas[df_akas['region']== 'US']"
   ]
  },
  {
   "cell_type": "code",
   "execution_count": null,
   "id": "e83b0edc",
   "metadata": {},
   "outputs": [],
   "source": [
    "df_ratings = ratings.drop(['numVotes'],axis=1)\n",
    "df_ratings['averageRating'] = df_ratings['averageRating'].fillna(0.0)"
   ]
  },
  {
   "cell_type": "code",
   "execution_count": null,
   "id": "19a2da0b",
   "metadata": {},
   "outputs": [],
   "source": [
    "df_people = people.drop(['birthYear','deathYear','primaryProfession','knownForTitles'],axis=1)\n",
    "df_people"
   ]
  },
  {
   "cell_type": "code",
   "execution_count": null,
   "id": "833f49a3",
   "metadata": {},
   "outputs": [],
   "source": [
    "us_all_titles = df_akas['titleId'].unique()\n",
    "\n",
    "all_movie_titles = df_basics['tconst'].unique()\n",
    "set_movies = set(all_movie_titles)\n",
    "\n",
    "us_movie_titles = [title for title in us_all_titles if title in set_movies]\n",
    "\n",
    "peopleList = df_people['nconst'].unique()\n",
    "peopleCount = len(peopleList)\n",
    "\n",
    "print('Number of all regional movies:',len(all_movie_titles))\n",
    "print('Number of US regional titles:',len(us_all_titles))\n",
    "print('Number of US regional movies:',len(us_movie_titles))\n",
    "print('Number of people:',peopleCount)"
   ]
  },
  {
   "cell_type": "code",
   "execution_count": null,
   "id": "3e65bcc7",
   "metadata": {},
   "outputs": [],
   "source": [
    "categories = ['actor','director','producer','actress']\n",
    "\n",
    "df_principal = principal.drop(['ordering','job','characters'],axis=1)\n",
    "\n",
    "df_principal = df_principal[df_principal['category'].isin(categories)]\n",
    "df_principal = df_principal[df_principal['tconst'].isin(us_movie_titles)]"
   ]
  },
  {
   "cell_type": "code",
   "execution_count": null,
   "id": "765df7f8",
   "metadata": {},
   "outputs": [],
   "source": [
    "data = {}\n",
    "\n",
    "for _, row in tqdm(principleData.iterrows()):\n",
    "    \n",
    "    if row[\"tconst\"] not in data.keys():\n",
    "        data[row[\"tconst\"]] = np.zeros(peopleCount)\n",
    "        \n",
    "    if row[\"nconst\"] in peopleList\n",
    "        index_ = peopleList.index(row[\"nconst\"])\n",
    "        if categoryWeights[row['category']] > data[row[\"tconst\"]][index_]:\n",
    "            data[row[\"tconst\"]][index_] = categoryWeights[row['category']]\n",
    "        \n",
    "titlePeople_df = pd.from_dict(data.items(), columns=['tconst','vector'])"
   ]
  },
  {
   "cell_type": "code",
   "execution_count": null,
   "id": "0f1cffa5",
   "metadata": {},
   "outputs": [],
   "source": [
    "final_df = pd.DataFrame(us_movie_titles, columns=['tconst'])\n",
    "\n",
    "final_df = final_df.merge(df_basics, on = 'tconst', how = 'left')\n",
    "final_df = final_df.merge(df_ratings, on = 'tconst', how = 'left')\n",
    "final_df = final_df.merge(titlePeople_df, on = 'tconst', how = 'left')"
   ]
  },
  {
   "cell_type": "code",
   "execution_count": null,
   "id": "5d06a532",
   "metadata": {},
   "outputs": [],
   "source": [
    "final_df = final_df.set_index('tconst')\n",
    "finalTitleData = final_df.to_dict('index')"
   ]
  },
  {
   "cell_type": "code",
   "execution_count": null,
   "id": "9d4fc778",
   "metadata": {},
   "outputs": [],
   "source": [
    "final_df"
   ]
  },
  {
   "cell_type": "code",
   "execution_count": null,
   "id": "a575ac25",
   "metadata": {},
   "outputs": [],
   "source": [
    "with open('CleanTitleData.json', 'w') as fp:\n",
    "    json.dump(finalTitleData, fp, indent=4)"
   ]
  },
  {
   "cell_type": "markdown",
   "id": "a0a7fd41",
   "metadata": {},
   "source": [
    "# Query"
   ]
  },
  {
   "cell_type": "code",
   "execution_count": null,
   "id": "c607ac2e",
   "metadata": {},
   "outputs": [],
   "source": [
    "def getQueryVector(pplList):\n",
    "    queryvector = np.zeros(peopleCount)\n",
    "    for person in pplList:\n",
    "        if person in peopleList:\n",
    "            queryvector[peopleData.index(person)] = categoryWeights['actor']\n",
    "    return queryvector"
   ]
  },
  {
   "cell_type": "code",
   "execution_count": null,
   "id": "0d41cd01",
   "metadata": {},
   "outputs": [],
   "source": [
    "query = ['Tom Holland','Zendaya']"
   ]
  },
  {
   "cell_type": "code",
   "execution_count": null,
   "id": "37e9076b",
   "metadata": {},
   "outputs": [],
   "source": [
    "queryVector = getQueryVector(query)"
   ]
  },
  {
   "cell_type": "markdown",
   "id": "4462319b",
   "metadata": {},
   "source": [
    "# Calculate Scores"
   ]
  },
  {
   "cell_type": "code",
   "execution_count": null,
   "id": "c892d630",
   "metadata": {},
   "outputs": [],
   "source": [
    "f = open('CleanTitleData.json')\n",
    "cleanTitleData = json.load(f)\n",
    "f.close()"
   ]
  },
  {
   "cell_type": "code",
   "execution_count": null,
   "id": "5719315e",
   "metadata": {},
   "outputs": [],
   "source": [
    "abc = { n: cleanTitleData[n] for n in list(cleanTitleData.keys()) \n",
    "    if (int(cleanTitleData[n]['startYear']) >= 2019 and cleanTitleData[n]['averageRating'] != 0 )\n",
    "}"
   ]
  },
  {
   "cell_type": "code",
   "execution_count": null,
   "id": "6531c9cc",
   "metadata": {},
   "outputs": [],
   "source": [
    "scores = {}\n",
    "\n",
    "for titleId in tqdm(abc.keys()):\n",
    "    sim = cosim(queryVector, cleanTitleData[titleId][vector])\n",
    "    age = getAgeFactor(cleanTitleData[titleId]['startYear'])\n",
    "    rating  = getRatingFactor(cleanTitleData[titleId]['averageRating'])\n",
    "    scores[titleId] = getFinalScore(sim,age,rating)"
   ]
  },
  {
   "cell_type": "code",
   "execution_count": null,
   "id": "6e5cd796",
   "metadata": {},
   "outputs": [],
   "source": [
    "result = dict(Counter(scores).most_common(25))"
   ]
  },
  {
   "cell_type": "markdown",
   "id": "9938f968",
   "metadata": {},
   "source": [
    "# Final result"
   ]
  },
  {
   "cell_type": "code",
   "execution_count": null,
   "id": "9735eb6a",
   "metadata": {},
   "outputs": [],
   "source": [
    "for r in result.keys():\n",
    "    print(cleanTitleData[r]['primaryName'], \" : \",result[r])"
   ]
  }
 ],
 "metadata": {
  "kernelspec": {
   "display_name": "Python 3 (ipykernel)",
   "language": "python",
   "name": "python3"
  },
  "language_info": {
   "codemirror_mode": {
    "name": "ipython",
    "version": 3
   },
   "file_extension": ".py",
   "mimetype": "text/x-python",
   "name": "python",
   "nbconvert_exporter": "python",
   "pygments_lexer": "ipython3",
   "version": "3.9.7"
  }
 },
 "nbformat": 4,
 "nbformat_minor": 5
}
