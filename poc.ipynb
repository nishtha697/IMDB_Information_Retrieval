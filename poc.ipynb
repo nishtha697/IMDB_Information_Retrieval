{
 "cells": [
  {
   "cell_type": "code",
   "execution_count": 1,
   "metadata": {},
   "outputs": [],
   "source": [
    "import pandas as pd\n",
    "import numpy as np\n",
    "import json \n",
    "from collections import Counter\n"
   ]
  },
  {
   "cell_type": "code",
   "execution_count": 2,
   "metadata": {},
   "outputs": [],
   "source": [
    "query = ['Tom Holland','Zendaya']"
   ]
  },
  {
   "cell_type": "code",
   "execution_count": 104,
   "metadata": {},
   "outputs": [],
   "source": [
    "principleData = pd.read_csv(\"title.principal\", sep=\"\\t\")"
   ]
  },
  {
   "cell_type": "code",
   "execution_count": 3,
   "metadata": {},
   "outputs": [],
   "source": [
    "actorData = pd.read_csv(\"name.basics.tsv\",sep=\"\\t\").drop(['birthYear','deathYear',\t'primaryProfession','knownForTitles'], axis=1)"
   ]
  },
  {
   "cell_type": "code",
   "execution_count": 4,
   "metadata": {},
   "outputs": [],
   "source": [
    "actorNconstList = actorData.groupby('primaryName')['nconst'].apply(list).to_dict()"
   ]
  },
  {
   "cell_type": "code",
   "execution_count": 107,
   "metadata": {},
   "outputs": [
    {
     "name": "stderr",
     "output_type": "stream",
     "text": [
      "50118947it [32:38, 25588.00it/s]\n"
     ]
    }
   ],
   "source": [
    "data = {}\n",
    "for index, row in tqdm(principleData.iterrows()):\n",
    "    if row[\"tconst\"] not in data.keys():\n",
    "        data[row[\"tconst\"]] = {}\n",
    "    if row[\"nconst\"] not in data[row[\"tconst\"]].keys():\n",
    "        data[row[\"tconst\"]][row[\"nconst\"]] = []\n",
    "    data[row[\"tconst\"]][row[\"nconst\"]].append(row['category'])"
   ]
  },
  {
   "cell_type": "code",
   "execution_count": 109,
   "metadata": {},
   "outputs": [],
   "source": [
    "with open('./data/principleData.json', 'w') as fp:\n",
    "    json.dump(data, fp,  indent=4)"
   ]
  },
  {
   "cell_type": "code",
   "execution_count": 5,
   "metadata": {},
   "outputs": [],
   "source": [
    "f = open('./data/principleData.json')\n",
    "movieData = json.load(f)\n",
    "f.close()"
   ]
  },
  {
   "cell_type": "code",
   "execution_count": 6,
   "metadata": {},
   "outputs": [],
   "source": [
    "catWeights = {\n",
    "    'self': 9,\n",
    "    'director': 9,\n",
    "    'cinematographer': 6,\n",
    "    'composer': 5,\n",
    "    'producer': 8,\n",
    "    'editor': 5,\n",
    "    'actor': 10,\n",
    "    'actress': 10,\n",
    "    'writer': 7,\n",
    "    'production_designer': 1,\n",
    "    'archive_footage': 1,\n",
    "    'archive_sound': 1\n",
    "}"
   ]
  },
  {
   "cell_type": "code",
   "execution_count": 7,
   "metadata": {},
   "outputs": [],
   "source": [
    "nnConstVectorSize = actorData[\"nconst\"].unique().tolist()\n",
    "nCV = len(nnConstVectorSize)"
   ]
  },
  {
   "cell_type": "code",
   "execution_count": 8,
   "metadata": {},
   "outputs": [],
   "source": [
    "def cosim(v1, v2):\n",
    "    u = np.float64(v1)\n",
    "    v = np.float64(v2)\n",
    "    return np.dot(u,v)/(np.linalg.norm(u)*np.linalg.norm(v))"
   ]
  },
  {
   "cell_type": "code",
   "execution_count": 9,
   "metadata": {},
   "outputs": [],
   "source": [
    "def getMaxCategoryWeight(categories):\n",
    "    val = 0\n",
    "    for cat in categories:\n",
    "        catVal = catWeights[cat]\n",
    "        if catVal > val:\n",
    "            val = catVal\n",
    "    return val"
   ]
  },
  {
   "cell_type": "code",
   "execution_count": 51,
   "metadata": {},
   "outputs": [],
   "source": [
    "def getVector(tconst):\n",
    "    v = np.zeros(nCV)\n",
    "    for person in movieData[tconst].keys():\n",
    "        if person in nnConstVectorSize:\n",
    "            categories = movieData[tconst][person]\n",
    "            v[nnConstVectorSize.index(person)] = getMaxCategoryWeight(categories)\n",
    "    return v"
   ]
  },
  {
   "cell_type": "code",
   "execution_count": 15,
   "metadata": {},
   "outputs": [],
   "source": [
    "movieTitlesData = pd.read_csv(\"title.basics.tsv\",sep=\"\\t\").drop(['originalTitle','isAdult',\t'runtimeMinutes','genres'], axis=1)"
   ]
  },
  {
   "cell_type": "code",
   "execution_count": 20,
   "metadata": {},
   "outputs": [],
   "source": [
    "movieTitlesRating = pd.read_csv(\"title.ratings.tsv\",sep=\"\\t\").drop(['numVotes'], axis=1)"
   ]
  },
  {
   "cell_type": "code",
   "execution_count": 21,
   "metadata": {},
   "outputs": [
    {
     "data": {
      "text/html": [
       "<div>\n",
       "<style scoped>\n",
       "    .dataframe tbody tr th:only-of-type {\n",
       "        vertical-align: middle;\n",
       "    }\n",
       "\n",
       "    .dataframe tbody tr th {\n",
       "        vertical-align: top;\n",
       "    }\n",
       "\n",
       "    .dataframe thead th {\n",
       "        text-align: right;\n",
       "    }\n",
       "</style>\n",
       "<table border=\"1\" class=\"dataframe\">\n",
       "  <thead>\n",
       "    <tr style=\"text-align: right;\">\n",
       "      <th></th>\n",
       "      <th>tconst</th>\n",
       "      <th>averageRating</th>\n",
       "    </tr>\n",
       "  </thead>\n",
       "  <tbody>\n",
       "    <tr>\n",
       "      <th>0</th>\n",
       "      <td>tt0000001</td>\n",
       "      <td>5.7</td>\n",
       "    </tr>\n",
       "    <tr>\n",
       "      <th>1</th>\n",
       "      <td>tt0000002</td>\n",
       "      <td>5.9</td>\n",
       "    </tr>\n",
       "    <tr>\n",
       "      <th>2</th>\n",
       "      <td>tt0000003</td>\n",
       "      <td>6.5</td>\n",
       "    </tr>\n",
       "    <tr>\n",
       "      <th>3</th>\n",
       "      <td>tt0000004</td>\n",
       "      <td>5.8</td>\n",
       "    </tr>\n",
       "    <tr>\n",
       "      <th>4</th>\n",
       "      <td>tt0000005</td>\n",
       "      <td>6.2</td>\n",
       "    </tr>\n",
       "  </tbody>\n",
       "</table>\n",
       "</div>"
      ],
      "text/plain": [
       "      tconst  averageRating\n",
       "0  tt0000001            5.7\n",
       "1  tt0000002            5.9\n",
       "2  tt0000003            6.5\n",
       "3  tt0000004            5.8\n",
       "4  tt0000005            6.2"
      ]
     },
     "execution_count": 21,
     "metadata": {},
     "output_type": "execute_result"
    }
   ],
   "source": [
    "movieTitlesRating.head()"
   ]
  },
  {
   "cell_type": "code",
   "execution_count": 39,
   "metadata": {},
   "outputs": [],
   "source": [
    "from datetime import date\n",
    "\n",
    "newDf = movieTitlesData.merge(movieTitlesRating, on='tconst', how='left')\n"
   ]
  },
  {
   "cell_type": "code",
   "execution_count": 40,
   "metadata": {},
   "outputs": [
    {
     "data": {
      "text/html": [
       "<div>\n",
       "<style scoped>\n",
       "    .dataframe tbody tr th:only-of-type {\n",
       "        vertical-align: middle;\n",
       "    }\n",
       "\n",
       "    .dataframe tbody tr th {\n",
       "        vertical-align: top;\n",
       "    }\n",
       "\n",
       "    .dataframe thead th {\n",
       "        text-align: right;\n",
       "    }\n",
       "</style>\n",
       "<table border=\"1\" class=\"dataframe\">\n",
       "  <thead>\n",
       "    <tr style=\"text-align: right;\">\n",
       "      <th></th>\n",
       "      <th>tconst</th>\n",
       "      <th>titleType</th>\n",
       "      <th>primaryTitle</th>\n",
       "      <th>startYear</th>\n",
       "      <th>endYear</th>\n",
       "      <th>averageRating</th>\n",
       "    </tr>\n",
       "  </thead>\n",
       "  <tbody>\n",
       "    <tr>\n",
       "      <th>177</th>\n",
       "      <td>tt0000180</td>\n",
       "      <td>short</td>\n",
       "      <td>Le chemin de croix</td>\n",
       "      <td>1898</td>\n",
       "      <td>\\N</td>\n",
       "      <td>NaN</td>\n",
       "    </tr>\n",
       "  </tbody>\n",
       "</table>\n",
       "</div>"
      ],
      "text/plain": [
       "        tconst titleType        primaryTitle startYear endYear  averageRating\n",
       "177  tt0000180     short  Le chemin de croix      1898      \\N            NaN"
      ]
     },
     "execution_count": 40,
     "metadata": {},
     "output_type": "execute_result"
    }
   ],
   "source": [
    "newDf[newDf[\"tconst\"]=='tt0000180']"
   ]
  },
  {
   "cell_type": "code",
   "execution_count": 119,
   "metadata": {},
   "outputs": [],
   "source": [
    "data2 = {}\n",
    "\n",
    "for index, row in newDf.iterrows():\n",
    "    if row['titleType'] == \"movie\":\n",
    "        if row['tconst'] not in data2.keys():\n",
    "            data2[row[\"tconst\"]] = {}\n",
    "        data2[row[\"tconst\"]]['name'] = row[\"primaryTitle\"]\n",
    "        if row['titleType'] != \"TV_Series\":\n",
    "            data2[row[\"tconst\"]]['release_year'] = '1950' if row['startYear'] == \"\\\\N\" else row['startYear']\n",
    "        else:\n",
    "            if row['endYear'] == \"\\\\N\":\n",
    "                data2[row[\"tconst\"]]['release_year'] = date.today().year\n",
    "            else:\n",
    "                data2[row[\"tconst\"]]['release_year'] = row['endYear']\n",
    "        if pd.isna(row['averageRating']):\n",
    "            data2[row[\"tconst\"]]['rating'] = 0\n",
    "        else:\n",
    "            data2[row[\"tconst\"]]['rating'] = row['averageRating']"
   ]
  },
  {
   "cell_type": "code",
   "execution_count": 120,
   "metadata": {},
   "outputs": [],
   "source": [
    "with open('./data/titles.json', 'w') as fp:\n",
    "    json.dump(data2, fp,  indent=4)"
   ]
  },
  {
   "cell_type": "code",
   "execution_count": 121,
   "metadata": {},
   "outputs": [],
   "source": [
    "f = open('./data/titles.json')\n",
    "titleData = json.load(f)\n",
    "f.close()"
   ]
  },
  {
   "cell_type": "code",
   "execution_count": 89,
   "metadata": {},
   "outputs": [],
   "source": [
    "from datetime import date\n",
    "import math\n",
    "\n",
    "def getAgeFactor(release_year):\n",
    "    currentYear = date.today().year\n",
    "    diff = currentYear - int(release_year)\n",
    "    return 1/math.exp(diff/100)"
   ]
  },
  {
   "cell_type": "code",
   "execution_count": 78,
   "metadata": {},
   "outputs": [],
   "source": [
    "def getRatingFactor(rating):\n",
    "    return rating/10"
   ]
  },
  {
   "cell_type": "code",
   "execution_count": 79,
   "metadata": {},
   "outputs": [],
   "source": [
    "def getFinalScore(cosine, age, rating):\n",
    "    cosineWeight = 0.6\n",
    "    ageWeight = 0.3\n",
    "    ratingWeight = 0.1\n",
    "    return (cosineWeight * cosine) + (ageWeight * age) + (ratingWeight * rating)"
   ]
  },
  {
   "cell_type": "code",
   "execution_count": 80,
   "metadata": {},
   "outputs": [],
   "source": [
    "queryVect = np.zeros(nCV)\n",
    "for p in query:\n",
    "    nConstList = actorNconstList[p]\n",
    "    for entry in nConstList:\n",
    "        if entry in nnConstVectorSize:\n",
    "            queryVect[nnConstVectorSize.index(entry)] = getMaxCategoryWeight(catWeights)"
   ]
  },
  {
   "cell_type": "code",
   "execution_count": 130,
   "metadata": {},
   "outputs": [],
   "source": [
    "filtered = {n: movieData[n] for n in list(movieData.keys()) \n",
    "if (n in titleData.keys() and int(titleData[n]['release_year'])>=2020 and titleData[n]['rating']!=0 )}"
   ]
  },
  {
   "cell_type": "code",
   "execution_count": 131,
   "metadata": {},
   "outputs": [
    {
     "data": {
      "text/plain": [
       "16550"
      ]
     },
     "execution_count": 131,
     "metadata": {},
     "output_type": "execute_result"
    }
   ],
   "source": [
    "len(list(filtered.keys()))"
   ]
  },
  {
   "cell_type": "code",
   "execution_count": 133,
   "metadata": {},
   "outputs": [
    {
     "name": "stderr",
     "output_type": "stream",
     "text": [
      "100%|██████████| 16550/16550 [4:53:08<00:00,  1.06s/it]   \n"
     ]
    }
   ],
   "source": [
    "scores = {}\n",
    "from tqdm import tqdm\n",
    "for movieId in tqdm(filtered.keys()):\n",
    "        sim = cosim(queryVect, getVector(movieId))\n",
    "        age = getAgeFactor(titleData[movieId]['release_year'])\n",
    "        \n",
    "        rating  = getRatingFactor(titleData[movieId]['rating'])\n",
    "        scores[movieId] = (sim,age,rating, getFinalScore(sim,age,rating))\n",
    "        # getFinalScore(sim,age,rating)"
   ]
  },
  {
   "cell_type": "code",
   "execution_count": 136,
   "metadata": {},
   "outputs": [
    {
     "data": {
      "text/plain": [
       "(0.0, 1.0, 0.73, 0.373)"
      ]
     },
     "execution_count": 136,
     "metadata": {},
     "output_type": "execute_result"
    }
   ],
   "source": [
    "scores['tt0120589']"
   ]
  },
  {
   "cell_type": "code",
   "execution_count": 137,
   "metadata": {},
   "outputs": [
    {
     "data": {
      "text/plain": [
       "{'tt10872600': (0.146943671674129,\n",
       "  0.9900498337491681,\n",
       "  0.8400000000000001,\n",
       "  0.46918115312922787),\n",
       " 'tt12676326': (0.08980265101338747,\n",
       "  0.9900498337491681,\n",
       "  0.6599999999999999,\n",
       "  0.4168965407327829),\n",
       " 'tt7146812': (0.07597371763975863,\n",
       "  0.9801986733067554,\n",
       "  0.74,\n",
       "  0.4136438325758818),\n",
       " 'tt1464335': (0.07422696190252055, 1.0, 0.65, 0.4095361771415123),\n",
       " 'tt1160419': (0.07273929674533079,\n",
       "  0.9900498337491681,\n",
       "  0.8099999999999999,\n",
       "  0.42165852817194893),\n",
       " 'tt2076822': (0.07202824060656197,\n",
       "  0.9900498337491681,\n",
       "  0.5700000000000001,\n",
       "  0.3972318944886876),\n",
       " 'tt7395114': (0.07202824060656197,\n",
       "  0.9801986733067554,\n",
       "  0.71,\n",
       "  0.4082765463559638),\n",
       " 'tt9130508': (0.07193500012656064,\n",
       "  0.9900498337491681,\n",
       "  0.6599999999999999,\n",
       "  0.4061759502006868),\n",
       " 'tt14690746': (0.0, 1.0, 1.0, 0.4),\n",
       " 'tt15333126': (0.0, 1.0, 1.0, 0.4),\n",
       " 'tt15341150': (0.0, 1.0, 1.0, 0.4),\n",
       " 'tt15394074': (0.0, 1.0, 1.0, 0.4),\n",
       " 'tt16112972': (0.0, 1.0, 1.0, 0.4),\n",
       " 'tt16755990': (0.0, 1.0, 1.0, 0.4),\n",
       " 'tt16790672': (0.0, 1.0, 1.0, 0.4),\n",
       " 'tt17160594': (0.0, 1.0, 1.0, 0.4),\n",
       " 'tt18163404': (0.0, 1.0, 1.0, 0.4),\n",
       " 'tt18311204': (0.0, 1.0, 1.0, 0.4),\n",
       " 'tt18938056': (0.0, 1.0, 1.0, 0.4),\n",
       " 'tt18951862': (0.0, 1.0, 1.0, 0.4),\n",
       " 'tt19769530': (0.0, 1.0, 1.0, 0.4),\n",
       " 'tt11915042': (0.0, 1.0, 0.99, 0.399),\n",
       " 'tt12762788': (0.0, 1.0, 0.99, 0.399),\n",
       " 'tt15295828': (0.0, 1.0, 0.99, 0.399),\n",
       " 'tt17007480': (0.0, 1.0, 0.99, 0.399)}"
      ]
     },
     "execution_count": 137,
     "metadata": {},
     "output_type": "execute_result"
    }
   ],
   "source": [
    "dict(Counter(scores).most_common(25))"
   ]
  },
  {
   "cell_type": "code",
   "execution_count": null,
   "metadata": {},
   "outputs": [],
   "source": []
  },
  {
   "cell_type": "code",
   "execution_count": null,
   "metadata": {},
   "outputs": [],
   "source": []
  },
  {
   "cell_type": "code",
   "execution_count": null,
   "metadata": {},
   "outputs": [],
   "source": []
  },
  {
   "cell_type": "code",
   "execution_count": null,
   "metadata": {},
   "outputs": [],
   "source": []
  },
  {
   "cell_type": "code",
   "execution_count": null,
   "metadata": {},
   "outputs": [],
   "source": []
  },
  {
   "cell_type": "code",
   "execution_count": null,
   "metadata": {},
   "outputs": [],
   "source": []
  },
  {
   "cell_type": "code",
   "execution_count": null,
   "metadata": {},
   "outputs": [],
   "source": []
  },
  {
   "cell_type": "code",
   "execution_count": null,
   "metadata": {},
   "outputs": [],
   "source": []
  },
  {
   "cell_type": "code",
   "execution_count": 6,
   "metadata": {},
   "outputs": [
    {
     "data": {
      "text/html": [
       "<div>\n",
       "<style scoped>\n",
       "    .dataframe tbody tr th:only-of-type {\n",
       "        vertical-align: middle;\n",
       "    }\n",
       "\n",
       "    .dataframe tbody tr th {\n",
       "        vertical-align: top;\n",
       "    }\n",
       "\n",
       "    .dataframe thead th {\n",
       "        text-align: right;\n",
       "    }\n",
       "</style>\n",
       "<table border=\"1\" class=\"dataframe\">\n",
       "  <thead>\n",
       "    <tr style=\"text-align: right;\">\n",
       "      <th></th>\n",
       "      <th>nconst</th>\n",
       "      <th>category</th>\n",
       "    </tr>\n",
       "  </thead>\n",
       "  <tbody>\n",
       "    <tr>\n",
       "      <th>0</th>\n",
       "      <td>nm1588970</td>\n",
       "      <td>self</td>\n",
       "    </tr>\n",
       "    <tr>\n",
       "      <th>1</th>\n",
       "      <td>nm0005690</td>\n",
       "      <td>director</td>\n",
       "    </tr>\n",
       "    <tr>\n",
       "      <th>2</th>\n",
       "      <td>nm0374658</td>\n",
       "      <td>cinematographer</td>\n",
       "    </tr>\n",
       "  </tbody>\n",
       "</table>\n",
       "</div>"
      ],
      "text/plain": [
       "      nconst         category\n",
       "0  nm1588970             self\n",
       "1  nm0005690         director\n",
       "2  nm0374658  cinematographer"
      ]
     },
     "execution_count": 6,
     "metadata": {},
     "output_type": "execute_result"
    }
   ],
   "source": [
    "prin[prin[\"tconst\"] == \"tt0000001\"][[\"nconst\",\"category\"]]"
   ]
  },
  {
   "cell_type": "code",
   "execution_count": 13,
   "metadata": {},
   "outputs": [],
   "source": [
    "def getNNconstAndCat(tt):\n",
    "    return prin[prin[\"tconst\"] == tt][[\"nconst\",\"category\"]]"
   ]
  },
  {
   "cell_type": "code",
   "execution_count": 14,
   "metadata": {},
   "outputs": [
    {
     "data": {
      "text/html": [
       "<div>\n",
       "<style scoped>\n",
       "    .dataframe tbody tr th:only-of-type {\n",
       "        vertical-align: middle;\n",
       "    }\n",
       "\n",
       "    .dataframe tbody tr th {\n",
       "        vertical-align: top;\n",
       "    }\n",
       "\n",
       "    .dataframe thead th {\n",
       "        text-align: right;\n",
       "    }\n",
       "</style>\n",
       "<table border=\"1\" class=\"dataframe\">\n",
       "  <thead>\n",
       "    <tr style=\"text-align: right;\">\n",
       "      <th></th>\n",
       "      <th>nconst</th>\n",
       "      <th>category</th>\n",
       "    </tr>\n",
       "  </thead>\n",
       "  <tbody>\n",
       "    <tr>\n",
       "      <th>0</th>\n",
       "      <td>nm1588970</td>\n",
       "      <td>self</td>\n",
       "    </tr>\n",
       "    <tr>\n",
       "      <th>1</th>\n",
       "      <td>nm0005690</td>\n",
       "      <td>director</td>\n",
       "    </tr>\n",
       "    <tr>\n",
       "      <th>2</th>\n",
       "      <td>nm0374658</td>\n",
       "      <td>cinematographer</td>\n",
       "    </tr>\n",
       "  </tbody>\n",
       "</table>\n",
       "</div>"
      ],
      "text/plain": [
       "      nconst         category\n",
       "0  nm1588970             self\n",
       "1  nm0005690         director\n",
       "2  nm0374658  cinematographer"
      ]
     },
     "execution_count": 14,
     "metadata": {},
     "output_type": "execute_result"
    }
   ],
   "source": [
    "getNNconstAndCat(\"tt0000001\")"
   ]
  },
  {
   "cell_type": "code",
   "execution_count": 16,
   "metadata": {},
   "outputs": [],
   "source": [
    "nnConstVectorSize = prin[\"nconst\"].unique().tolist()"
   ]
  },
  {
   "cell_type": "code",
   "execution_count": 19,
   "metadata": {},
   "outputs": [],
   "source": [
    "nCV = len(nnConstVectorSize)"
   ]
  },
  {
   "cell_type": "code",
   "execution_count": 23,
   "metadata": {},
   "outputs": [],
   "source": [
    "catListUnique = prin[\"category\"].unique().tolist()"
   ]
  },
  {
   "cell_type": "code",
   "execution_count": 24,
   "metadata": {},
   "outputs": [
    {
     "data": {
      "text/plain": [
       "['self',\n",
       " 'director',\n",
       " 'cinematographer',\n",
       " 'composer',\n",
       " 'producer',\n",
       " 'editor',\n",
       " 'actor',\n",
       " 'actress',\n",
       " 'writer',\n",
       " 'production_designer',\n",
       " 'archive_footage',\n",
       " 'archive_sound']"
      ]
     },
     "execution_count": 24,
     "metadata": {},
     "output_type": "execute_result"
    }
   ],
   "source": [
    "catListUnique"
   ]
  },
  {
   "cell_type": "code",
   "execution_count": 60,
   "metadata": {},
   "outputs": [],
   "source": [
    "def getVector(tconst):\n",
    "    v = np.zeros(nCV)\n",
    "    nconstOut = getNNconstAndCat(tconst)\n",
    "    nnList = nconstOut[\"nconst\"].to_list()\n",
    "    catList = nconstOut[\"category\"].to_list()\n",
    "    for i,nn in enumerate(nnList):\n",
    "        index_ = nnConstVectorSize.index(nn)\n",
    "        cat = catList[i]\n",
    "        v[index_] = catListUnique.index(cat) + 1\n",
    "    return v\n"
   ]
  },
  {
   "cell_type": "code",
   "execution_count": 58,
   "metadata": {},
   "outputs": [],
   "source": [
    "titles = prin[\"tconst\"].unique()"
   ]
  },
  {
   "cell_type": "code",
   "execution_count": 64,
   "metadata": {},
   "outputs": [
    {
     "data": {
      "text/plain": [
       "8011609"
      ]
     },
     "execution_count": 64,
     "metadata": {},
     "output_type": "execute_result"
    }
   ],
   "source": [
    "len(titles)"
   ]
  },
  {
   "cell_type": "code",
   "execution_count": 62,
   "metadata": {},
   "outputs": [],
   "source": [
    "vectorList = []"
   ]
  },
  {
   "cell_type": "code",
   "execution_count": 85,
   "metadata": {},
   "outputs": [
    {
     "name": "stderr",
     "output_type": "stream",
     "text": [
      "  0%|          | 30649/8011609 [00:54<3:56:19, 562.87it/s] \n"
     ]
    },
    {
     "ename": "KeyboardInterrupt",
     "evalue": "",
     "output_type": "error",
     "traceback": [
      "\u001b[0;31m---------------------------------------------------------------------------\u001b[0m",
      "\u001b[0;31mKeyboardInterrupt\u001b[0m                         Traceback (most recent call last)",
      "\u001b[0;32m/var/folders/vh/thnd0hs575d3b44v_znfycnw0000gn/T/ipykernel_61341/3815007540.py\u001b[0m in \u001b[0;36m<module>\u001b[0;34m\u001b[0m\n\u001b[1;32m      2\u001b[0m \u001b[0;34m\u001b[0m\u001b[0m\n\u001b[1;32m      3\u001b[0m \u001b[0;32mfor\u001b[0m \u001b[0mi\u001b[0m \u001b[0;32min\u001b[0m \u001b[0mtqdm\u001b[0m\u001b[0;34m(\u001b[0m\u001b[0mtitles\u001b[0m\u001b[0;34m)\u001b[0m\u001b[0;34m:\u001b[0m\u001b[0;34m\u001b[0m\u001b[0;34m\u001b[0m\u001b[0m\n\u001b[0;32m----> 4\u001b[0;31m     \u001b[0mvectorList\u001b[0m\u001b[0;34m.\u001b[0m\u001b[0mappend\u001b[0m\u001b[0;34m(\u001b[0m\u001b[0mgetVector\u001b[0m\u001b[0;34m(\u001b[0m\u001b[0mi\u001b[0m\u001b[0;34m)\u001b[0m\u001b[0;34m)\u001b[0m\u001b[0;34m\u001b[0m\u001b[0;34m\u001b[0m\u001b[0m\n\u001b[0m",
      "\u001b[0;32m/var/folders/vh/thnd0hs575d3b44v_znfycnw0000gn/T/ipykernel_61341/3339828301.py\u001b[0m in \u001b[0;36mgetVector\u001b[0;34m(tconst)\u001b[0m\n\u001b[1;32m      4\u001b[0m     \u001b[0;32mfor\u001b[0m \u001b[0mperson\u001b[0m \u001b[0;32min\u001b[0m \u001b[0md1\u001b[0m\u001b[0;34m[\u001b[0m\u001b[0mtconst\u001b[0m\u001b[0;34m]\u001b[0m\u001b[0;34m.\u001b[0m\u001b[0mkeys\u001b[0m\u001b[0;34m(\u001b[0m\u001b[0;34m)\u001b[0m\u001b[0;34m:\u001b[0m\u001b[0;34m\u001b[0m\u001b[0;34m\u001b[0m\u001b[0m\n\u001b[1;32m      5\u001b[0m         \u001b[0mcategories\u001b[0m \u001b[0;34m=\u001b[0m \u001b[0md1\u001b[0m\u001b[0;34m[\u001b[0m\u001b[0mtconst\u001b[0m\u001b[0;34m]\u001b[0m\u001b[0;34m[\u001b[0m\u001b[0mperson\u001b[0m\u001b[0;34m]\u001b[0m\u001b[0;34m\u001b[0m\u001b[0;34m\u001b[0m\u001b[0m\n\u001b[0;32m----> 6\u001b[0;31m         \u001b[0mv\u001b[0m\u001b[0;34m[\u001b[0m\u001b[0mnnConstVectorSize\u001b[0m\u001b[0;34m.\u001b[0m\u001b[0mindex\u001b[0m\u001b[0;34m(\u001b[0m\u001b[0mperson\u001b[0m\u001b[0;34m)\u001b[0m\u001b[0;34m]\u001b[0m \u001b[0;34m=\u001b[0m \u001b[0mgetMaxCategoryWeight\u001b[0m\u001b[0;34m(\u001b[0m\u001b[0mcategories\u001b[0m\u001b[0;34m)\u001b[0m\u001b[0;34m\u001b[0m\u001b[0;34m\u001b[0m\u001b[0m\n\u001b[0m\u001b[1;32m      7\u001b[0m \u001b[0;34m\u001b[0m\u001b[0m\n\u001b[1;32m      8\u001b[0m     \u001b[0;32mreturn\u001b[0m \u001b[0mv\u001b[0m\u001b[0;34m\u001b[0m\u001b[0;34m\u001b[0m\u001b[0m\n",
      "\u001b[0;31mKeyboardInterrupt\u001b[0m: "
     ]
    }
   ],
   "source": [
    "from tqdm import tqdm\n",
    "\n",
    "for i in tqdm(titles):\n",
    "    vectorList.append(getVector(i))"
   ]
  },
  {
   "cell_type": "code",
   "execution_count": 37,
   "metadata": {},
   "outputs": [],
   "source": [
    "actorNames = pd.read_csv(\"name.basics.tsv\",sep=\"\\t\").drop(['birthYear','deathYear',\t'primaryProfession','knownForTitles'])"
   ]
  },
  {
   "cell_type": "code",
   "execution_count": 44,
   "metadata": {},
   "outputs": [
    {
     "data": {
      "text/html": [
       "<div>\n",
       "<style scoped>\n",
       "    .dataframe tbody tr th:only-of-type {\n",
       "        vertical-align: middle;\n",
       "    }\n",
       "\n",
       "    .dataframe tbody tr th {\n",
       "        vertical-align: top;\n",
       "    }\n",
       "\n",
       "    .dataframe thead th {\n",
       "        text-align: right;\n",
       "    }\n",
       "</style>\n",
       "<table border=\"1\" class=\"dataframe\">\n",
       "  <thead>\n",
       "    <tr style=\"text-align: right;\">\n",
       "      <th></th>\n",
       "      <th>nconst</th>\n",
       "      <th>primaryName</th>\n",
       "      <th>birthYear</th>\n",
       "      <th>deathYear</th>\n",
       "      <th>primaryProfession</th>\n",
       "      <th>knownForTitles</th>\n",
       "    </tr>\n",
       "  </thead>\n",
       "  <tbody>\n",
       "    <tr>\n",
       "      <th>261824</th>\n",
       "      <td>nm0276169</td>\n",
       "      <td>Tom Holland</td>\n",
       "      <td>1943</td>\n",
       "      <td>\\N</td>\n",
       "      <td>actor,writer,director</td>\n",
       "      <td>tt0089175,tt0086154,tt0117894,tt0094862</td>\n",
       "    </tr>\n",
       "    <tr>\n",
       "      <th>369904</th>\n",
       "      <td>nm0390847</td>\n",
       "      <td>Tom Holland</td>\n",
       "      <td>\\N</td>\n",
       "      <td>\\N</td>\n",
       "      <td>actor,visual_effects</td>\n",
       "      <td>tt0051301,tt0041532,tt0047739,tt0153094</td>\n",
       "    </tr>\n",
       "    <tr>\n",
       "      <th>369905</th>\n",
       "      <td>nm0390848</td>\n",
       "      <td>Tom Holland</td>\n",
       "      <td>\\N</td>\n",
       "      <td>\\N</td>\n",
       "      <td>costume_department</td>\n",
       "      <td>tt0056499</td>\n",
       "    </tr>\n",
       "    <tr>\n",
       "      <th>369906</th>\n",
       "      <td>nm0390849</td>\n",
       "      <td>Tom Holland</td>\n",
       "      <td>\\N</td>\n",
       "      <td>\\N</td>\n",
       "      <td>NaN</td>\n",
       "      <td>\\N</td>\n",
       "    </tr>\n",
       "    <tr>\n",
       "      <th>1392814</th>\n",
       "      <td>nm10503517</td>\n",
       "      <td>Tom Holland</td>\n",
       "      <td>\\N</td>\n",
       "      <td>\\N</td>\n",
       "      <td>actor</td>\n",
       "      <td>\\N</td>\n",
       "    </tr>\n",
       "    <tr>\n",
       "      <th>2113877</th>\n",
       "      <td>nm11252455</td>\n",
       "      <td>Tom Holland</td>\n",
       "      <td>\\N</td>\n",
       "      <td>\\N</td>\n",
       "      <td>NaN</td>\n",
       "      <td>\\N</td>\n",
       "    </tr>\n",
       "    <tr>\n",
       "      <th>2893480</th>\n",
       "      <td>nm12059929</td>\n",
       "      <td>Tom Holland</td>\n",
       "      <td>\\N</td>\n",
       "      <td>\\N</td>\n",
       "      <td>NaN</td>\n",
       "      <td>tt6570890,tt0363373,tt11833936</td>\n",
       "    </tr>\n",
       "    <tr>\n",
       "      <th>3389060</th>\n",
       "      <td>nm12574442</td>\n",
       "      <td>Tom Holland</td>\n",
       "      <td>\\N</td>\n",
       "      <td>\\N</td>\n",
       "      <td>NaN</td>\n",
       "      <td>tt1944942</td>\n",
       "    </tr>\n",
       "    <tr>\n",
       "      <th>4009787</th>\n",
       "      <td>nm13231994</td>\n",
       "      <td>Tom Holland</td>\n",
       "      <td>\\N</td>\n",
       "      <td>\\N</td>\n",
       "      <td>actor</td>\n",
       "      <td>tt9814506</td>\n",
       "    </tr>\n",
       "    <tr>\n",
       "      <th>5198083</th>\n",
       "      <td>nm2286597</td>\n",
       "      <td>Tom Holland</td>\n",
       "      <td>1968</td>\n",
       "      <td>\\N</td>\n",
       "      <td>writer,miscellaneous</td>\n",
       "      <td>tt2050498,tt0273026,tt11560302</td>\n",
       "    </tr>\n",
       "    <tr>\n",
       "      <th>5328660</th>\n",
       "      <td>nm2435842</td>\n",
       "      <td>Tom Holland</td>\n",
       "      <td>\\N</td>\n",
       "      <td>\\N</td>\n",
       "      <td>art_department</td>\n",
       "      <td>tt0114892</td>\n",
       "    </tr>\n",
       "    <tr>\n",
       "      <th>5434580</th>\n",
       "      <td>nm2553723</td>\n",
       "      <td>Tom Holland</td>\n",
       "      <td>\\N</td>\n",
       "      <td>\\N</td>\n",
       "      <td>miscellaneous</td>\n",
       "      <td>tt0206501</td>\n",
       "    </tr>\n",
       "    <tr>\n",
       "      <th>5880125</th>\n",
       "      <td>nm3061291</td>\n",
       "      <td>Tom Holland</td>\n",
       "      <td>\\N</td>\n",
       "      <td>\\N</td>\n",
       "      <td>NaN</td>\n",
       "      <td>\\N</td>\n",
       "    </tr>\n",
       "    <tr>\n",
       "      <th>6763238</th>\n",
       "      <td>nm4042070</td>\n",
       "      <td>Tom Holland</td>\n",
       "      <td>1947</td>\n",
       "      <td>\\N</td>\n",
       "      <td>writer</td>\n",
       "      <td>tt1589886</td>\n",
       "    </tr>\n",
       "    <tr>\n",
       "      <th>6764345</th>\n",
       "      <td>nm4043618</td>\n",
       "      <td>Tom Holland</td>\n",
       "      <td>1996</td>\n",
       "      <td>\\N</td>\n",
       "      <td>actor,director,producer</td>\n",
       "      <td>tt2250912,tt6320628,tt3498820,tt1649419</td>\n",
       "    </tr>\n",
       "    <tr>\n",
       "      <th>7338219</th>\n",
       "      <td>nm4718969</td>\n",
       "      <td>Tom Holland</td>\n",
       "      <td>\\N</td>\n",
       "      <td>\\N</td>\n",
       "      <td>actor</td>\n",
       "      <td>tt1600194</td>\n",
       "    </tr>\n",
       "    <tr>\n",
       "      <th>7351257</th>\n",
       "      <td>nm4733697</td>\n",
       "      <td>Tom Holland</td>\n",
       "      <td>\\N</td>\n",
       "      <td>\\N</td>\n",
       "      <td>NaN</td>\n",
       "      <td>\\N</td>\n",
       "    </tr>\n",
       "    <tr>\n",
       "      <th>8989033</th>\n",
       "      <td>nm6728577</td>\n",
       "      <td>Tom Holland</td>\n",
       "      <td>\\N</td>\n",
       "      <td>\\N</td>\n",
       "      <td>sound_department</td>\n",
       "      <td>tt3958896</td>\n",
       "    </tr>\n",
       "    <tr>\n",
       "      <th>9588333</th>\n",
       "      <td>nm7518392</td>\n",
       "      <td>Tom Holland</td>\n",
       "      <td>\\N</td>\n",
       "      <td>\\N</td>\n",
       "      <td>actor</td>\n",
       "      <td>tt4717468</td>\n",
       "    </tr>\n",
       "    <tr>\n",
       "      <th>10243741</th>\n",
       "      <td>nm8345690</td>\n",
       "      <td>Tom Holland</td>\n",
       "      <td>\\N</td>\n",
       "      <td>\\N</td>\n",
       "      <td>NaN</td>\n",
       "      <td>\\N</td>\n",
       "    </tr>\n",
       "    <tr>\n",
       "      <th>11105199</th>\n",
       "      <td>nm9418652</td>\n",
       "      <td>Tom Holland</td>\n",
       "      <td>\\N</td>\n",
       "      <td>\\N</td>\n",
       "      <td>actor</td>\n",
       "      <td>tt7558176</td>\n",
       "    </tr>\n",
       "    <tr>\n",
       "      <th>11112412</th>\n",
       "      <td>nm9427570</td>\n",
       "      <td>Tom Holland</td>\n",
       "      <td>\\N</td>\n",
       "      <td>\\N</td>\n",
       "      <td>producer</td>\n",
       "      <td>tt5307354</td>\n",
       "    </tr>\n",
       "    <tr>\n",
       "      <th>11137111</th>\n",
       "      <td>nm9456532</td>\n",
       "      <td>Tom Holland</td>\n",
       "      <td>\\N</td>\n",
       "      <td>\\N</td>\n",
       "      <td>NaN</td>\n",
       "      <td>tt7654810</td>\n",
       "    </tr>\n",
       "    <tr>\n",
       "      <th>11140108</th>\n",
       "      <td>nm9460004</td>\n",
       "      <td>Tom Holland</td>\n",
       "      <td>\\N</td>\n",
       "      <td>\\N</td>\n",
       "      <td>NaN</td>\n",
       "      <td>\\N</td>\n",
       "    </tr>\n",
       "  </tbody>\n",
       "</table>\n",
       "</div>"
      ],
      "text/plain": [
       "              nconst  primaryName birthYear deathYear  \\\n",
       "261824     nm0276169  Tom Holland      1943        \\N   \n",
       "369904     nm0390847  Tom Holland        \\N        \\N   \n",
       "369905     nm0390848  Tom Holland        \\N        \\N   \n",
       "369906     nm0390849  Tom Holland        \\N        \\N   \n",
       "1392814   nm10503517  Tom Holland        \\N        \\N   \n",
       "2113877   nm11252455  Tom Holland        \\N        \\N   \n",
       "2893480   nm12059929  Tom Holland        \\N        \\N   \n",
       "3389060   nm12574442  Tom Holland        \\N        \\N   \n",
       "4009787   nm13231994  Tom Holland        \\N        \\N   \n",
       "5198083    nm2286597  Tom Holland      1968        \\N   \n",
       "5328660    nm2435842  Tom Holland        \\N        \\N   \n",
       "5434580    nm2553723  Tom Holland        \\N        \\N   \n",
       "5880125    nm3061291  Tom Holland        \\N        \\N   \n",
       "6763238    nm4042070  Tom Holland      1947        \\N   \n",
       "6764345    nm4043618  Tom Holland      1996        \\N   \n",
       "7338219    nm4718969  Tom Holland        \\N        \\N   \n",
       "7351257    nm4733697  Tom Holland        \\N        \\N   \n",
       "8989033    nm6728577  Tom Holland        \\N        \\N   \n",
       "9588333    nm7518392  Tom Holland        \\N        \\N   \n",
       "10243741   nm8345690  Tom Holland        \\N        \\N   \n",
       "11105199   nm9418652  Tom Holland        \\N        \\N   \n",
       "11112412   nm9427570  Tom Holland        \\N        \\N   \n",
       "11137111   nm9456532  Tom Holland        \\N        \\N   \n",
       "11140108   nm9460004  Tom Holland        \\N        \\N   \n",
       "\n",
       "                primaryProfession                           knownForTitles  \n",
       "261824      actor,writer,director  tt0089175,tt0086154,tt0117894,tt0094862  \n",
       "369904       actor,visual_effects  tt0051301,tt0041532,tt0047739,tt0153094  \n",
       "369905         costume_department                                tt0056499  \n",
       "369906                        NaN                                       \\N  \n",
       "1392814                     actor                                       \\N  \n",
       "2113877                       NaN                                       \\N  \n",
       "2893480                       NaN           tt6570890,tt0363373,tt11833936  \n",
       "3389060                       NaN                                tt1944942  \n",
       "4009787                     actor                                tt9814506  \n",
       "5198083      writer,miscellaneous           tt2050498,tt0273026,tt11560302  \n",
       "5328660            art_department                                tt0114892  \n",
       "5434580             miscellaneous                                tt0206501  \n",
       "5880125                       NaN                                       \\N  \n",
       "6763238                    writer                                tt1589886  \n",
       "6764345   actor,director,producer  tt2250912,tt6320628,tt3498820,tt1649419  \n",
       "7338219                     actor                                tt1600194  \n",
       "7351257                       NaN                                       \\N  \n",
       "8989033          sound_department                                tt3958896  \n",
       "9588333                     actor                                tt4717468  \n",
       "10243741                      NaN                                       \\N  \n",
       "11105199                    actor                                tt7558176  \n",
       "11112412                 producer                                tt5307354  \n",
       "11137111                      NaN                                tt7654810  \n",
       "11140108                      NaN                                       \\N  "
      ]
     },
     "execution_count": 44,
     "metadata": {},
     "output_type": "execute_result"
    }
   ],
   "source": [
    "actorNames[actorNames[\"primaryName\"] == \"Tom Holland\"]"
   ]
  },
  {
   "cell_type": "code",
   "execution_count": 32,
   "metadata": {},
   "outputs": [
    {
     "data": {
      "text/plain": [
       "array([1., 2., 3., ..., 0., 0., 0.])"
      ]
     },
     "execution_count": 32,
     "metadata": {},
     "output_type": "execute_result"
    }
   ],
   "source": [
    "v"
   ]
  },
  {
   "cell_type": "code",
   "execution_count": 47,
   "metadata": {},
   "outputs": [
    {
     "data": {
      "text/plain": [
       "72.0"
      ]
     },
     "execution_count": 47,
     "metadata": {},
     "output_type": "execute_result"
    }
   ],
   "source": [
    "np.sum(v)"
   ]
  },
  {
   "cell_type": "code",
   "execution_count": 48,
   "metadata": {},
   "outputs": [],
   "source": [
    "index_ = nnConstVectorSize.index(\"nm4043618\")"
   ]
  },
  {
   "cell_type": "code",
   "execution_count": 49,
   "metadata": {},
   "outputs": [
    {
     "data": {
      "text/plain": [
       "1141671"
      ]
     },
     "execution_count": 49,
     "metadata": {},
     "output_type": "execute_result"
    }
   ],
   "source": [
    "index_"
   ]
  },
  {
   "cell_type": "code",
   "execution_count": 50,
   "metadata": {},
   "outputs": [
    {
     "data": {
      "text/plain": [
       "7.0"
      ]
     },
     "execution_count": 50,
     "metadata": {},
     "output_type": "execute_result"
    }
   ],
   "source": [
    "v[1141671]"
   ]
  },
  {
   "cell_type": "code",
   "execution_count": 51,
   "metadata": {},
   "outputs": [],
   "source": [
    "qv = np.zeros(nCV)\n",
    "qv[1141671] = 1"
   ]
  },
  {
   "cell_type": "code",
   "execution_count": 53,
   "metadata": {},
   "outputs": [
    {
     "data": {
      "text/plain": [
       "0.29475317237328164"
      ]
     },
     "execution_count": 53,
     "metadata": {},
     "output_type": "execute_result"
    }
   ],
   "source": [
    "cosim(qv,v)"
   ]
  },
  {
   "cell_type": "code",
   "execution_count": 54,
   "metadata": {},
   "outputs": [],
   "source": [
    "import time"
   ]
  },
  {
   "cell_type": "code",
   "execution_count": 55,
   "metadata": {},
   "outputs": [
    {
     "data": {
      "text/plain": [
       "1651504773.408334"
      ]
     },
     "execution_count": 55,
     "metadata": {},
     "output_type": "execute_result"
    }
   ],
   "source": [
    "time.time()"
   ]
  },
  {
   "cell_type": "code",
   "execution_count": null,
   "metadata": {},
   "outputs": [],
   "source": []
  }
 ],
 "metadata": {
  "interpreter": {
   "hash": "236d75c8ced8c33dc50c358ff847198be77e414e72f224dc366214724460398a"
  },
  "kernelspec": {
   "display_name": "Python 3.9.7 ('base')",
   "language": "python",
   "name": "python3"
  },
  "language_info": {
   "codemirror_mode": {
    "name": "ipython",
    "version": 3
   },
   "file_extension": ".py",
   "mimetype": "text/x-python",
   "name": "python",
   "nbconvert_exporter": "python",
   "pygments_lexer": "ipython3",
   "version": "3.9.7"
  },
  "orig_nbformat": 4
 },
 "nbformat": 4,
 "nbformat_minor": 2
}
