{
 "cells": [
  {
   "cell_type": "code",
   "execution_count": 1,
   "metadata": {},
   "outputs": [],
   "source": [
    "import pandas as pd\n",
    "import numpy as np\n",
    "import json \n",
    "from collections import Counter\n",
    "from datetime import date\n",
    "import math\n",
    "from tqdm import tqdm"
   ]
  },
  {
   "cell_type": "markdown",
   "metadata": {},
   "source": [
    "# Query"
   ]
  },
  {
   "cell_type": "code",
   "execution_count": 2,
   "metadata": {},
   "outputs": [],
   "source": [
    "query = ['Tom Holland','Zendaya']"
   ]
  },
  {
   "cell_type": "markdown",
   "metadata": {},
   "source": [
    "# Pre-Processing"
   ]
  },
  {
   "cell_type": "code",
   "execution_count": 104,
   "metadata": {},
   "outputs": [],
   "source": [
    "principleData = pd.read_csv(\"title.principal\", sep=\"\\t\")"
   ]
  },
  {
   "cell_type": "code",
   "execution_count": 3,
   "metadata": {},
   "outputs": [],
   "source": [
    "actorData = pd.read_csv(\"name.basics.tsv\",sep=\"\\t\").drop(['birthYear','deathYear',\t'primaryProfession','knownForTitles'], axis=1)"
   ]
  },
  {
   "cell_type": "code",
   "execution_count": 4,
   "metadata": {},
   "outputs": [],
   "source": [
    "actorNconstList = actorData.groupby('primaryName')['nconst'].apply(list).to_dict()"
   ]
  },
  {
   "cell_type": "code",
   "execution_count": 107,
   "metadata": {},
   "outputs": [
    {
     "name": "stderr",
     "output_type": "stream",
     "text": [
      "50118947it [32:38, 25588.00it/s]\n"
     ]
    }
   ],
   "source": [
    "data = {}\n",
    "for index, row in tqdm(principleData.iterrows()):\n",
    "    if row[\"tconst\"] not in data.keys():\n",
    "        data[row[\"tconst\"]] = {}\n",
    "    if row[\"nconst\"] not in data[row[\"tconst\"]].keys():\n",
    "        data[row[\"tconst\"]][row[\"nconst\"]] = []\n",
    "    data[row[\"tconst\"]][row[\"nconst\"]].append(row['category'])"
   ]
  },
  {
   "cell_type": "code",
   "execution_count": 109,
   "metadata": {},
   "outputs": [],
   "source": [
    "with open('./data/principleData.json', 'w') as fp:\n",
    "    json.dump(data, fp,  indent=4)"
   ]
  },
  {
   "cell_type": "code",
   "execution_count": 5,
   "metadata": {},
   "outputs": [],
   "source": [
    "f = open('./data/principleData.json')\n",
    "movieData = json.load(f)\n",
    "f.close()"
   ]
  },
  {
   "cell_type": "code",
   "execution_count": 6,
   "metadata": {},
   "outputs": [],
   "source": [
    "catWeights = {\n",
    "    'self': 9,\n",
    "    'director': 9,\n",
    "    'cinematographer': 6,\n",
    "    'composer': 5,\n",
    "    'producer': 8,\n",
    "    'editor': 5,\n",
    "    'actor': 10,\n",
    "    'actress': 10,\n",
    "    'writer': 7,\n",
    "    'production_designer': 1,\n",
    "    'archive_footage': 1,\n",
    "    'archive_sound': 1\n",
    "}"
   ]
  },
  {
   "cell_type": "code",
   "execution_count": 7,
   "metadata": {},
   "outputs": [],
   "source": [
    "nnConstVectorSize = actorData[\"nconst\"].unique().tolist()\n",
    "nCV = len(nnConstVectorSize)"
   ]
  },
  {
   "cell_type": "code",
   "execution_count": 140,
   "metadata": {},
   "outputs": [
    {
     "data": {
      "text/plain": [
       "11594277"
      ]
     },
     "execution_count": 140,
     "metadata": {},
     "output_type": "execute_result"
    }
   ],
   "source": [
    "nCV"
   ]
  },
  {
   "cell_type": "code",
   "execution_count": 154,
   "metadata": {},
   "outputs": [],
   "source": [
    "movieTitlesData = pd.read_csv(\"title.basics.tsv\",sep=\"\\t\").drop(['originalTitle','isAdult',\t'runtimeMinutes','genres'], axis=1)"
   ]
  },
  {
   "cell_type": "code",
   "execution_count": null,
   "metadata": {},
   "outputs": [],
   "source": [
    "movieTitlesRating = pd.read_csv(\"title.ratings.tsv\",sep=\"\\t\").drop(['numVotes'], axis=1)"
   ]
  },
  {
   "cell_type": "code",
   "execution_count": null,
   "metadata": {},
   "outputs": [
    {
     "data": {
      "text/html": [
       "<div>\n",
       "<style scoped>\n",
       "    .dataframe tbody tr th:only-of-type {\n",
       "        vertical-align: middle;\n",
       "    }\n",
       "\n",
       "    .dataframe tbody tr th {\n",
       "        vertical-align: top;\n",
       "    }\n",
       "\n",
       "    .dataframe thead th {\n",
       "        text-align: right;\n",
       "    }\n",
       "</style>\n",
       "<table border=\"1\" class=\"dataframe\">\n",
       "  <thead>\n",
       "    <tr style=\"text-align: right;\">\n",
       "      <th></th>\n",
       "      <th>tconst</th>\n",
       "      <th>averageRating</th>\n",
       "    </tr>\n",
       "  </thead>\n",
       "  <tbody>\n",
       "    <tr>\n",
       "      <th>0</th>\n",
       "      <td>tt0000001</td>\n",
       "      <td>5.7</td>\n",
       "    </tr>\n",
       "    <tr>\n",
       "      <th>1</th>\n",
       "      <td>tt0000002</td>\n",
       "      <td>5.9</td>\n",
       "    </tr>\n",
       "    <tr>\n",
       "      <th>2</th>\n",
       "      <td>tt0000003</td>\n",
       "      <td>6.5</td>\n",
       "    </tr>\n",
       "    <tr>\n",
       "      <th>3</th>\n",
       "      <td>tt0000004</td>\n",
       "      <td>5.8</td>\n",
       "    </tr>\n",
       "    <tr>\n",
       "      <th>4</th>\n",
       "      <td>tt0000005</td>\n",
       "      <td>6.2</td>\n",
       "    </tr>\n",
       "  </tbody>\n",
       "</table>\n",
       "</div>"
      ],
      "text/plain": [
       "      tconst  averageRating\n",
       "0  tt0000001            5.7\n",
       "1  tt0000002            5.9\n",
       "2  tt0000003            6.5\n",
       "3  tt0000004            5.8\n",
       "4  tt0000005            6.2"
      ]
     },
     "execution_count": 21,
     "metadata": {},
     "output_type": "execute_result"
    }
   ],
   "source": [
    "movieTitlesRating.head()"
   ]
  },
  {
   "cell_type": "code",
   "execution_count": null,
   "metadata": {},
   "outputs": [],
   "source": [
    "\n",
    "newDf = movieTitlesData.merge(movieTitlesRating, on='tconst', how='left')\n"
   ]
  },
  {
   "cell_type": "code",
   "execution_count": null,
   "metadata": {},
   "outputs": [
    {
     "data": {
      "text/html": [
       "<div>\n",
       "<style scoped>\n",
       "    .dataframe tbody tr th:only-of-type {\n",
       "        vertical-align: middle;\n",
       "    }\n",
       "\n",
       "    .dataframe tbody tr th {\n",
       "        vertical-align: top;\n",
       "    }\n",
       "\n",
       "    .dataframe thead th {\n",
       "        text-align: right;\n",
       "    }\n",
       "</style>\n",
       "<table border=\"1\" class=\"dataframe\">\n",
       "  <thead>\n",
       "    <tr style=\"text-align: right;\">\n",
       "      <th></th>\n",
       "      <th>tconst</th>\n",
       "      <th>titleType</th>\n",
       "      <th>primaryTitle</th>\n",
       "      <th>startYear</th>\n",
       "      <th>endYear</th>\n",
       "      <th>averageRating</th>\n",
       "    </tr>\n",
       "  </thead>\n",
       "  <tbody>\n",
       "    <tr>\n",
       "      <th>177</th>\n",
       "      <td>tt0000180</td>\n",
       "      <td>short</td>\n",
       "      <td>Le chemin de croix</td>\n",
       "      <td>1898</td>\n",
       "      <td>\\N</td>\n",
       "      <td>NaN</td>\n",
       "    </tr>\n",
       "  </tbody>\n",
       "</table>\n",
       "</div>"
      ],
      "text/plain": [
       "        tconst titleType        primaryTitle startYear endYear  averageRating\n",
       "177  tt0000180     short  Le chemin de croix      1898      \\N            NaN"
      ]
     },
     "execution_count": 40,
     "metadata": {},
     "output_type": "execute_result"
    }
   ],
   "source": [
    "newDf[newDf[\"tconst\"]=='tt0000180']"
   ]
  },
  {
   "cell_type": "code",
   "execution_count": null,
   "metadata": {},
   "outputs": [],
   "source": [
    "data2 = {}\n",
    "\n",
    "for index, row in newDf.iterrows():\n",
    "    if row['titleType'] == \"movie\":\n",
    "        if row['tconst'] not in data2.keys():\n",
    "            data2[row[\"tconst\"]] = {}\n",
    "        data2[row[\"tconst\"]]['name'] = row[\"primaryTitle\"]\n",
    "        if row['titleType'] != \"TV_Series\":\n",
    "            data2[row[\"tconst\"]]['release_year'] = '1950' if row['startYear'] == \"\\\\N\" else row['startYear']\n",
    "        else:\n",
    "            if row['endYear'] == \"\\\\N\":\n",
    "                data2[row[\"tconst\"]]['release_year'] = date.today().year\n",
    "            else:\n",
    "                data2[row[\"tconst\"]]['release_year'] = row['endYear']\n",
    "        if pd.isna(row['averageRating']):\n",
    "            data2[row[\"tconst\"]]['rating'] = 0\n",
    "        else:\n",
    "            data2[row[\"tconst\"]]['rating'] = row['averageRating']"
   ]
  },
  {
   "cell_type": "code",
   "execution_count": null,
   "metadata": {},
   "outputs": [],
   "source": [
    "with open('./data/titles.json', 'w') as fp:\n",
    "    json.dump(data2, fp,  indent=4)"
   ]
  },
  {
   "cell_type": "code",
   "execution_count": null,
   "metadata": {},
   "outputs": [],
   "source": [
    "f = open('./data/titles.json')\n",
    "titleData = json.load(f)\n",
    "f.close()"
   ]
  },
  {
   "cell_type": "markdown",
   "metadata": {},
   "source": [
    "# Helper functions"
   ]
  },
  {
   "cell_type": "code",
   "execution_count": 8,
   "metadata": {},
   "outputs": [],
   "source": [
    "def cosim(v1, v2):\n",
    "    u = np.float64(v1)\n",
    "    v = np.float64(v2)\n",
    "    return np.dot(u,v)/(np.linalg.norm(u)*np.linalg.norm(v))"
   ]
  },
  {
   "cell_type": "code",
   "execution_count": 9,
   "metadata": {},
   "outputs": [],
   "source": [
    "def getMaxCategoryWeight(categories):\n",
    "    val = 0\n",
    "    for cat in categories:\n",
    "        catVal = catWeights[cat]\n",
    "        if catVal > val:\n",
    "            val = catVal\n",
    "    return val"
   ]
  },
  {
   "cell_type": "code",
   "execution_count": 152,
   "metadata": {},
   "outputs": [],
   "source": [
    "def getVector(tconst):\n",
    "    v = np.zeros(nCV)\n",
    "    for person in movieData[tconst].keys():\n",
    "        if person in nnConstVectorSize:\n",
    "            categories = movieData[tconst][person]\n",
    "            v[nnConstVectorSize.index(person)] = getMaxCategoryWeight(categories)\n",
    "    return v"
   ]
  },
  {
   "cell_type": "code",
   "execution_count": null,
   "metadata": {},
   "outputs": [],
   "source": [
    "\n",
    "def getAgeFactor(release_year):\n",
    "    currentYear = date.today().year\n",
    "    diff = currentYear - int(release_year)\n",
    "    return 1/math.exp(diff/100)"
   ]
  },
  {
   "cell_type": "code",
   "execution_count": null,
   "metadata": {},
   "outputs": [],
   "source": [
    "def getRatingFactor(rating):\n",
    "    return rating/10"
   ]
  },
  {
   "cell_type": "code",
   "execution_count": null,
   "metadata": {},
   "outputs": [],
   "source": [
    "def getFinalScore(cosine, age, rating):\n",
    "    cosineWeight = 0.7\n",
    "    ageWeight = 0.2 \n",
    "    ratingWeight = 0.1 \n",
    "    return (cosineWeight * cosine) + (ageWeight * age) + (ratingWeight * rating)"
   ]
  },
  {
   "cell_type": "markdown",
   "metadata": {},
   "source": [
    "# Query Vector"
   ]
  },
  {
   "cell_type": "code",
   "execution_count": null,
   "metadata": {},
   "outputs": [],
   "source": [
    "queryVect = np.zeros(nCV)\n",
    "for p in query:\n",
    "    nConstList = actorNconstList[p]\n",
    "    for entry in nConstList:\n",
    "        if entry in nnConstVectorSize:\n",
    "            queryVect[nnConstVectorSize.index(entry)] = getMaxCategoryWeight(catWeights)"
   ]
  },
  {
   "cell_type": "markdown",
   "metadata": {},
   "source": [
    "# Filtering Dataset \n",
    "Filtering the dataset due to constraint on resources and computing power. Here, we will be matching our query with titles that are of type \"Movies\", are released in or after 2020 and have a rating of more than 0. "
   ]
  },
  {
   "cell_type": "code",
   "execution_count": null,
   "metadata": {},
   "outputs": [],
   "source": [
    "filtered = {n: movieData[n] for n in list(movieData.keys()) \n",
    "if (n in titleData.keys() and int(titleData[n]['release_year'])>=2020 and titleData[n]['rating']!=0 )}"
   ]
  },
  {
   "cell_type": "code",
   "execution_count": null,
   "metadata": {},
   "outputs": [
    {
     "data": {
      "text/plain": [
       "16550"
      ]
     },
     "execution_count": 131,
     "metadata": {},
     "output_type": "execute_result"
    }
   ],
   "source": [
    "len(list(filtered.keys()))"
   ]
  },
  {
   "cell_type": "markdown",
   "metadata": {},
   "source": [
    "## Score Calculation"
   ]
  },
  {
   "cell_type": "code",
   "execution_count": null,
   "metadata": {},
   "outputs": [
    {
     "name": "stderr",
     "output_type": "stream",
     "text": [
      "100%|██████████| 16550/16550 [4:53:08<00:00,  1.06s/it]   \n"
     ]
    }
   ],
   "source": [
    "scores = {}\n",
    "for movieId in tqdm(filtered.keys()):\n",
    "        sim = cosim(queryVect, getVector(movieId))\n",
    "        age = getAgeFactor(titleData[movieId]['release_year'])\n",
    "        \n",
    "        rating  = getRatingFactor(titleData[movieId]['rating'])\n",
    "        scores[movieId] = (sim,age,rating, getFinalScore(sim,age,rating))\n"
   ]
  },
  {
   "cell_type": "code",
   "execution_count": null,
   "metadata": {},
   "outputs": [],
   "source": [
    "scoreDict = dict(Counter(scores).most_common(25))"
   ]
  },
  {
   "cell_type": "markdown",
   "metadata": {},
   "source": [
    "# Results"
   ]
  },
  {
   "cell_type": "code",
   "execution_count": null,
   "metadata": {},
   "outputs": [],
   "source": [
    "titles = []\n",
    "names = []\n",
    "years = []\n",
    "ratings = [] \n",
    "scores = []\n",
    "sim = []\n",
    "ageFactor = []\n",
    "ratingFactor = []\n",
    "\n",
    "for title in scoreDict:\n",
    "    titles.append(title)\n",
    "    names.append(titleData[title][\"name\"])\n",
    "    years.append(titleData[title][\"release_year\"])\n",
    "    ratings.append(titleData[title][\"rating\"])\n",
    "    scores.append(0.7*scoreDict[title][0] + 0.2*scoreDict[title][1] + 0.1*scoreDict[title][2])\n",
    "    sim.append(scoreDict[title][0])\n",
    "    ageFactor.append(scoreDict[title][1])\n",
    "    ratingFactor.append(scoreDict[title][2])\n",
    "\n",
    "results = pd.DataFrame({\n",
    "          \"titleId\" : titles,\n",
    "          \"Title Name\" : names,\n",
    "          \"Release year\" : years,\n",
    "          \"Rating\" : ratings,\n",
    "          \"Score\" : scores,\n",
    "          \"Similarity score\" : sim,\n",
    "          \"Age factor\" : ageFactor,\n",
    "          \"Rating factor\" : ratingFactor\n",
    "          })   "
   ]
  },
  {
   "cell_type": "code",
   "execution_count": null,
   "metadata": {},
   "outputs": [],
   "source": [
    "final_results = results.sort_values(by=['Score'], ascending=False)"
   ]
  },
  {
   "cell_type": "code",
   "execution_count": null,
   "metadata": {},
   "outputs": [
    {
     "data": {
      "text/html": [
       "<div>\n",
       "<style scoped>\n",
       "    .dataframe tbody tr th:only-of-type {\n",
       "        vertical-align: middle;\n",
       "    }\n",
       "\n",
       "    .dataframe tbody tr th {\n",
       "        vertical-align: top;\n",
       "    }\n",
       "\n",
       "    .dataframe thead th {\n",
       "        text-align: right;\n",
       "    }\n",
       "</style>\n",
       "<table border=\"1\" class=\"dataframe\">\n",
       "  <thead>\n",
       "    <tr style=\"text-align: right;\">\n",
       "      <th></th>\n",
       "      <th>titleId</th>\n",
       "      <th>Title Name</th>\n",
       "      <th>Release year</th>\n",
       "      <th>Rating</th>\n",
       "      <th>Score</th>\n",
       "      <th>Similarity score</th>\n",
       "      <th>Age factor</th>\n",
       "      <th>Rating factor</th>\n",
       "    </tr>\n",
       "  </thead>\n",
       "  <tbody>\n",
       "    <tr>\n",
       "      <th>0</th>\n",
       "      <td>tt10872600</td>\n",
       "      <td>Spider-Man: No Way Home</td>\n",
       "      <td>2021</td>\n",
       "      <td>8.4</td>\n",
       "      <td>0.384871</td>\n",
       "      <td>0.146944</td>\n",
       "      <td>0.990050</td>\n",
       "      <td>0.84</td>\n",
       "    </tr>\n",
       "    <tr>\n",
       "      <th>4</th>\n",
       "      <td>tt1160419</td>\n",
       "      <td>Dune</td>\n",
       "      <td>2021</td>\n",
       "      <td>8.1</td>\n",
       "      <td>0.329927</td>\n",
       "      <td>0.072739</td>\n",
       "      <td>0.990050</td>\n",
       "      <td>0.81</td>\n",
       "    </tr>\n",
       "    <tr>\n",
       "      <th>1</th>\n",
       "      <td>tt12676326</td>\n",
       "      <td>Malcolm &amp; Marie</td>\n",
       "      <td>2021</td>\n",
       "      <td>6.6</td>\n",
       "      <td>0.326872</td>\n",
       "      <td>0.089803</td>\n",
       "      <td>0.990050</td>\n",
       "      <td>0.66</td>\n",
       "    </tr>\n",
       "    <tr>\n",
       "      <th>2</th>\n",
       "      <td>tt7146812</td>\n",
       "      <td>Onward</td>\n",
       "      <td>2020</td>\n",
       "      <td>7.4</td>\n",
       "      <td>0.323221</td>\n",
       "      <td>0.075974</td>\n",
       "      <td>0.980199</td>\n",
       "      <td>0.74</td>\n",
       "    </tr>\n",
       "    <tr>\n",
       "      <th>6</th>\n",
       "      <td>tt7395114</td>\n",
       "      <td>The Devil All the Time</td>\n",
       "      <td>2020</td>\n",
       "      <td>7.1</td>\n",
       "      <td>0.317460</td>\n",
       "      <td>0.072028</td>\n",
       "      <td>0.980199</td>\n",
       "      <td>0.71</td>\n",
       "    </tr>\n",
       "    <tr>\n",
       "      <th>3</th>\n",
       "      <td>tt1464335</td>\n",
       "      <td>Uncharted</td>\n",
       "      <td>2022</td>\n",
       "      <td>6.5</td>\n",
       "      <td>0.316959</td>\n",
       "      <td>0.074227</td>\n",
       "      <td>1.000000</td>\n",
       "      <td>0.65</td>\n",
       "    </tr>\n",
       "    <tr>\n",
       "      <th>7</th>\n",
       "      <td>tt9130508</td>\n",
       "      <td>Cherry</td>\n",
       "      <td>2021</td>\n",
       "      <td>6.6</td>\n",
       "      <td>0.314364</td>\n",
       "      <td>0.071935</td>\n",
       "      <td>0.990050</td>\n",
       "      <td>0.66</td>\n",
       "    </tr>\n",
       "    <tr>\n",
       "      <th>5</th>\n",
       "      <td>tt2076822</td>\n",
       "      <td>Chaos Walking</td>\n",
       "      <td>2021</td>\n",
       "      <td>5.7</td>\n",
       "      <td>0.305430</td>\n",
       "      <td>0.072028</td>\n",
       "      <td>0.990050</td>\n",
       "      <td>0.57</td>\n",
       "    </tr>\n",
       "    <tr>\n",
       "      <th>15</th>\n",
       "      <td>tt17160594</td>\n",
       "      <td>The Freedoms</td>\n",
       "      <td>2022</td>\n",
       "      <td>10.0</td>\n",
       "      <td>0.300000</td>\n",
       "      <td>0.000000</td>\n",
       "      <td>1.000000</td>\n",
       "      <td>1.00</td>\n",
       "    </tr>\n",
       "    <tr>\n",
       "      <th>20</th>\n",
       "      <td>tt19769530</td>\n",
       "      <td>Philios</td>\n",
       "      <td>2022</td>\n",
       "      <td>10.0</td>\n",
       "      <td>0.300000</td>\n",
       "      <td>0.000000</td>\n",
       "      <td>1.000000</td>\n",
       "      <td>1.00</td>\n",
       "    </tr>\n",
       "    <tr>\n",
       "      <th>19</th>\n",
       "      <td>tt18951862</td>\n",
       "      <td>Freed to Kill</td>\n",
       "      <td>2022</td>\n",
       "      <td>10.0</td>\n",
       "      <td>0.300000</td>\n",
       "      <td>0.000000</td>\n",
       "      <td>1.000000</td>\n",
       "      <td>1.00</td>\n",
       "    </tr>\n",
       "    <tr>\n",
       "      <th>18</th>\n",
       "      <td>tt18938056</td>\n",
       "      <td>Hiding in the Walls</td>\n",
       "      <td>2022</td>\n",
       "      <td>10.0</td>\n",
       "      <td>0.300000</td>\n",
       "      <td>0.000000</td>\n",
       "      <td>1.000000</td>\n",
       "      <td>1.00</td>\n",
       "    </tr>\n",
       "    <tr>\n",
       "      <th>17</th>\n",
       "      <td>tt18311204</td>\n",
       "      <td>TRANCE the Cathy O'Brien story</td>\n",
       "      <td>2022</td>\n",
       "      <td>10.0</td>\n",
       "      <td>0.300000</td>\n",
       "      <td>0.000000</td>\n",
       "      <td>1.000000</td>\n",
       "      <td>1.00</td>\n",
       "    </tr>\n",
       "    <tr>\n",
       "      <th>16</th>\n",
       "      <td>tt18163404</td>\n",
       "      <td>Casual Criminals</td>\n",
       "      <td>2022</td>\n",
       "      <td>10.0</td>\n",
       "      <td>0.300000</td>\n",
       "      <td>0.000000</td>\n",
       "      <td>1.000000</td>\n",
       "      <td>1.00</td>\n",
       "    </tr>\n",
       "    <tr>\n",
       "      <th>12</th>\n",
       "      <td>tt16112972</td>\n",
       "      <td>Mormor, kriget &amp; kärleken</td>\n",
       "      <td>2022</td>\n",
       "      <td>10.0</td>\n",
       "      <td>0.300000</td>\n",
       "      <td>0.000000</td>\n",
       "      <td>1.000000</td>\n",
       "      <td>1.00</td>\n",
       "    </tr>\n",
       "    <tr>\n",
       "      <th>14</th>\n",
       "      <td>tt16790672</td>\n",
       "      <td>Freedom Street</td>\n",
       "      <td>2022</td>\n",
       "      <td>10.0</td>\n",
       "      <td>0.300000</td>\n",
       "      <td>0.000000</td>\n",
       "      <td>1.000000</td>\n",
       "      <td>1.00</td>\n",
       "    </tr>\n",
       "    <tr>\n",
       "      <th>13</th>\n",
       "      <td>tt16755990</td>\n",
       "      <td>Mahananda</td>\n",
       "      <td>2022</td>\n",
       "      <td>10.0</td>\n",
       "      <td>0.300000</td>\n",
       "      <td>0.000000</td>\n",
       "      <td>1.000000</td>\n",
       "      <td>1.00</td>\n",
       "    </tr>\n",
       "    <tr>\n",
       "      <th>11</th>\n",
       "      <td>tt15394074</td>\n",
       "      <td>Rangers72</td>\n",
       "      <td>2022</td>\n",
       "      <td>10.0</td>\n",
       "      <td>0.300000</td>\n",
       "      <td>0.000000</td>\n",
       "      <td>1.000000</td>\n",
       "      <td>1.00</td>\n",
       "    </tr>\n",
       "    <tr>\n",
       "      <th>10</th>\n",
       "      <td>tt15341150</td>\n",
       "      <td>Reddy Garintlo Rowdyism</td>\n",
       "      <td>2022</td>\n",
       "      <td>10.0</td>\n",
       "      <td>0.300000</td>\n",
       "      <td>0.000000</td>\n",
       "      <td>1.000000</td>\n",
       "      <td>1.00</td>\n",
       "    </tr>\n",
       "    <tr>\n",
       "      <th>9</th>\n",
       "      <td>tt15333126</td>\n",
       "      <td>Laced</td>\n",
       "      <td>2022</td>\n",
       "      <td>10.0</td>\n",
       "      <td>0.300000</td>\n",
       "      <td>0.000000</td>\n",
       "      <td>1.000000</td>\n",
       "      <td>1.00</td>\n",
       "    </tr>\n",
       "    <tr>\n",
       "      <th>8</th>\n",
       "      <td>tt14690746</td>\n",
       "      <td>Uhinchaledhu Kadu</td>\n",
       "      <td>2022</td>\n",
       "      <td>10.0</td>\n",
       "      <td>0.300000</td>\n",
       "      <td>0.000000</td>\n",
       "      <td>1.000000</td>\n",
       "      <td>1.00</td>\n",
       "    </tr>\n",
       "    <tr>\n",
       "      <th>21</th>\n",
       "      <td>tt11915042</td>\n",
       "      <td>18 Pages</td>\n",
       "      <td>2022</td>\n",
       "      <td>9.9</td>\n",
       "      <td>0.299000</td>\n",
       "      <td>0.000000</td>\n",
       "      <td>1.000000</td>\n",
       "      <td>0.99</td>\n",
       "    </tr>\n",
       "    <tr>\n",
       "      <th>22</th>\n",
       "      <td>tt12762788</td>\n",
       "      <td>Box of Rain</td>\n",
       "      <td>2022</td>\n",
       "      <td>9.9</td>\n",
       "      <td>0.299000</td>\n",
       "      <td>0.000000</td>\n",
       "      <td>1.000000</td>\n",
       "      <td>0.99</td>\n",
       "    </tr>\n",
       "    <tr>\n",
       "      <th>23</th>\n",
       "      <td>tt15295828</td>\n",
       "      <td>Kathir</td>\n",
       "      <td>2022</td>\n",
       "      <td>9.9</td>\n",
       "      <td>0.299000</td>\n",
       "      <td>0.000000</td>\n",
       "      <td>1.000000</td>\n",
       "      <td>0.99</td>\n",
       "    </tr>\n",
       "    <tr>\n",
       "      <th>24</th>\n",
       "      <td>tt17007480</td>\n",
       "      <td>We Are Not Ghouls</td>\n",
       "      <td>2022</td>\n",
       "      <td>9.9</td>\n",
       "      <td>0.299000</td>\n",
       "      <td>0.000000</td>\n",
       "      <td>1.000000</td>\n",
       "      <td>0.99</td>\n",
       "    </tr>\n",
       "  </tbody>\n",
       "</table>\n",
       "</div>"
      ],
      "text/plain": [
       "       titleId                      Title Name Release year  Rating     Score  \\\n",
       "0   tt10872600         Spider-Man: No Way Home         2021     8.4  0.384871   \n",
       "4    tt1160419                            Dune         2021     8.1  0.329927   \n",
       "1   tt12676326                 Malcolm & Marie         2021     6.6  0.326872   \n",
       "2    tt7146812                          Onward         2020     7.4  0.323221   \n",
       "6    tt7395114          The Devil All the Time         2020     7.1  0.317460   \n",
       "3    tt1464335                       Uncharted         2022     6.5  0.316959   \n",
       "7    tt9130508                          Cherry         2021     6.6  0.314364   \n",
       "5    tt2076822                   Chaos Walking         2021     5.7  0.305430   \n",
       "15  tt17160594                    The Freedoms         2022    10.0  0.300000   \n",
       "20  tt19769530                         Philios         2022    10.0  0.300000   \n",
       "19  tt18951862                   Freed to Kill         2022    10.0  0.300000   \n",
       "18  tt18938056             Hiding in the Walls         2022    10.0  0.300000   \n",
       "17  tt18311204  TRANCE the Cathy O'Brien story         2022    10.0  0.300000   \n",
       "16  tt18163404                Casual Criminals         2022    10.0  0.300000   \n",
       "12  tt16112972       Mormor, kriget & kärleken         2022    10.0  0.300000   \n",
       "14  tt16790672                  Freedom Street         2022    10.0  0.300000   \n",
       "13  tt16755990                       Mahananda         2022    10.0  0.300000   \n",
       "11  tt15394074                       Rangers72         2022    10.0  0.300000   \n",
       "10  tt15341150         Reddy Garintlo Rowdyism         2022    10.0  0.300000   \n",
       "9   tt15333126                           Laced         2022    10.0  0.300000   \n",
       "8   tt14690746               Uhinchaledhu Kadu         2022    10.0  0.300000   \n",
       "21  tt11915042                        18 Pages         2022     9.9  0.299000   \n",
       "22  tt12762788                     Box of Rain         2022     9.9  0.299000   \n",
       "23  tt15295828                          Kathir         2022     9.9  0.299000   \n",
       "24  tt17007480               We Are Not Ghouls         2022     9.9  0.299000   \n",
       "\n",
       "    Similarity score  Age factor  Rating factor  \n",
       "0           0.146944    0.990050           0.84  \n",
       "4           0.072739    0.990050           0.81  \n",
       "1           0.089803    0.990050           0.66  \n",
       "2           0.075974    0.980199           0.74  \n",
       "6           0.072028    0.980199           0.71  \n",
       "3           0.074227    1.000000           0.65  \n",
       "7           0.071935    0.990050           0.66  \n",
       "5           0.072028    0.990050           0.57  \n",
       "15          0.000000    1.000000           1.00  \n",
       "20          0.000000    1.000000           1.00  \n",
       "19          0.000000    1.000000           1.00  \n",
       "18          0.000000    1.000000           1.00  \n",
       "17          0.000000    1.000000           1.00  \n",
       "16          0.000000    1.000000           1.00  \n",
       "12          0.000000    1.000000           1.00  \n",
       "14          0.000000    1.000000           1.00  \n",
       "13          0.000000    1.000000           1.00  \n",
       "11          0.000000    1.000000           1.00  \n",
       "10          0.000000    1.000000           1.00  \n",
       "9           0.000000    1.000000           1.00  \n",
       "8           0.000000    1.000000           1.00  \n",
       "21          0.000000    1.000000           0.99  \n",
       "22          0.000000    1.000000           0.99  \n",
       "23          0.000000    1.000000           0.99  \n",
       "24          0.000000    1.000000           0.99  "
      ]
     },
     "execution_count": 151,
     "metadata": {},
     "output_type": "execute_result"
    }
   ],
   "source": [
    "final_results"
   ]
  }
 ],
 "metadata": {
  "interpreter": {
   "hash": "236d75c8ced8c33dc50c358ff847198be77e414e72f224dc366214724460398a"
  },
  "kernelspec": {
   "display_name": "Python 3.9.7 ('base')",
   "language": "python",
   "name": "python3"
  },
  "language_info": {
   "codemirror_mode": {
    "name": "ipython",
    "version": 3
   },
   "file_extension": ".py",
   "mimetype": "text/x-python",
   "name": "python",
   "nbconvert_exporter": "python",
   "pygments_lexer": "ipython3",
   "version": "3.9.7"
  },
  "orig_nbformat": 4
 },
 "nbformat": 4,
 "nbformat_minor": 2
}
